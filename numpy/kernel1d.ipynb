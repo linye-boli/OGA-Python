{
 "cells": [
  {
   "cell_type": "code",
   "execution_count": 1,
   "metadata": {},
   "outputs": [],
   "source": [
    "import matplotlib.pyplot as plt\n",
    "\n",
    "import numpy as np \n",
    "import scipy\n",
    "from scipy.special import roots_legendre, factorial\n",
    "from functools import partial\n",
    "\n",
    "from einops import repeat, rearrange\n",
    "np.random.seed(0)"
   ]
  },
  {
   "cell_type": "code",
   "execution_count": 2,
   "metadata": {},
   "outputs": [],
   "source": [
    "def rl2_error(est, ref):\n",
    "    if len(est.shape) == 2:\n",
    "        b, n = est.shape \n",
    "    elif len(est.shape) == 3:\n",
    "        b, c, n = est.shape \n",
    "    return ((((est - ref)**2).sum(axis=-1))**0.5 / ((ref**2).sum(axis=-1))**0.5).mean()"
   ]
  },
  {
   "cell_type": "code",
   "execution_count": 3,
   "metadata": {},
   "outputs": [],
   "source": [
    "def ReLU(x, n):\n",
    "    # ReLU activation function\n",
    "    # n : degree \n",
    "    return np.maximum(0,x) ** n "
   ]
  },
  {
   "cell_type": "code",
   "execution_count": 4,
   "metadata": {},
   "outputs": [],
   "source": [
    "def GP1D(l,n):\n",
    "    x = np.linspace(0,1,n)\n",
    "    y = np.linspace(0,1,n)\n",
    "    mean = np.zeros_like(x)\n",
    "    gram = np.exp(-np.abs(x.reshape(-1,1) - y.reshape(1,-1))**2/(2*l**2))\n",
    "    f = np.random.multivariate_normal(mean, gram)\n",
    "    return f"
   ]
  },
  {
   "cell_type": "code",
   "execution_count": 19,
   "metadata": {},
   "outputs": [],
   "source": [
    "def Kernel(x, y):\n",
    "    return 0.5*(x+y-np.abs(x-y)) - x*y\n",
    "\n",
    "# def Kernel(x, y):\n",
    "#     return np.log(np.abs(x-y))\n",
    "\n",
    "# def Kernel(x, y):\n",
    "#     return np.cos(x-y)"
   ]
  },
  {
   "cell_type": "code",
   "execution_count": 20,
   "metadata": {},
   "outputs": [],
   "source": [
    "class KernelOGA1d:\n",
    "    def __init__(self, nNeuron, nSample, nPts):\n",
    "        self.nPts = nPts\n",
    "        self.nNeuron = nNeuron\n",
    "        self.nSample = nSample\n",
    "        \n",
    "        # coords\n",
    "        h = 1/(nPts - 1)\n",
    "        x = np.linspace(0,1,nPts)\n",
    "        y = np.linspace(0,1,nPts)\n",
    "        \n",
    "\n",
    "        xx, yy = np.meshgrid(x,y)\n",
    "        xs, ys = xx.reshape(-1), yy.reshape(-1)\n",
    "        self.xs = xs\n",
    "        self.ys = ys\n",
    "        self.h = h\n",
    "\n",
    "        # ref kernel\n",
    "        self.Gref = Kernel(xs, ys).reshape(nPts, nPts)\n",
    "\n",
    "        # data\n",
    "        fs = []\n",
    "        for _ in range(nSample):\n",
    "            fs.append(GP1D(0.02,nPts))\n",
    "        self.fs = np.array(fs)\n",
    "        self.us = h * (self.Gref @ self.fs.T).T\n",
    "\n",
    "        # learned kernel\n",
    "        self.Gk = np.zeros((nPts, nPts))\n",
    "        self.gbasis = []\n",
    "        self.uhbasis = []\n",
    "\n",
    "        # neural network\n",
    "        self.act = partial(ReLU, n=1)\n",
    "        self.Alpha = np.zeros((nNeuron, 1))\n",
    "        self.WB = np.zeros((nNeuron, 3))\n",
    "        self.X = np.c_[xs, ys, np.ones_like(xs)]\n",
    "\n",
    "        # wb search \n",
    "        self.nw = 2 \n",
    "        self.nb = 2001\n",
    "        self.nParam = (self.nw)**2 * self.nb\n",
    "        self.brute_forward()\n",
    "        \n",
    "        # current neuron k\n",
    "        self.k = 0\n",
    "    \n",
    "    def brute_forward(self):\n",
    "        Wx = np.linspace(-1,1, self.nw)\n",
    "        Wy = np.linspace(-1,1, self.nw)\n",
    "        B = np.linspace(-2,2, self.nb)\n",
    "        wwx, wwy, bb = np.meshgrid(Wx, Wy, B)\n",
    "        wxs = wwx.reshape(-1)\n",
    "        wys = wwy.reshape(-1)\n",
    "        bs = bb.reshape(-1)\n",
    "        self.wxs = wxs \n",
    "        self.wys = wys \n",
    "        self.bs = bs\n",
    "\n",
    "        gs = []\n",
    "        for wx, wy, b in zip(wxs, wys, bs):\n",
    "            gs.append(self.act(wx * self.xs + wy * self.ys + b))\n",
    "        self.gs = np.array(gs).reshape(self.nParam, self.nPts, self.nPts)\n",
    "        self.uhss = self.h * rearrange(self.gs @ self.fs.T, 'b n s -> b s n')\n",
    "    \n",
    "    def brute_search(self):\n",
    "        uts = self.h * rearrange(self.Gk @ self.fs.T, 'n s -> s n')\n",
    "        rG = self.h * ((self.us - uts) * self.uhss).sum(axis=(1,2))\n",
    "        E = -0.5 * rG ** 2 \n",
    "        idx = np.argmin(E)\n",
    "        # print(idx)\n",
    "        wxk, wyk, bk = self.wxs[idx], self.wys[idx], self.bs[idx]\n",
    "        gk = self.gs[idx]\n",
    "        uhk = self.uhss[idx]\n",
    "        return wxk, wyk, bk, gk, uhk\n",
    "    \n",
    "    def projection(self):\n",
    "        uhsub = np.array(self.uhbasis)\n",
    "        A = self.h * np.einsum('kns,pns->kp', uhsub, uhsub)\n",
    "        b = self.h * (uhsub * self.us).sum(axis=(1,2))\n",
    "        alpha_k = scipy.linalg.solve(A, b)\n",
    "        return alpha_k\n",
    "\n",
    "    def optimize(self):\n",
    "        for k in range(self.nNeuron):\n",
    "            wxk, wyk, bk, gk, uhk = self.brute_search()\n",
    "            self.gbasis.append(gk)\n",
    "            self.uhbasis.append(uhk)\n",
    "            alpha_k = self.projection()\n",
    "\n",
    "            # update params \n",
    "            self.WB[k,0] = wxk \n",
    "            self.WB[k,1] = wyk \n",
    "            self.WB[k,2] = bk \n",
    "            self.Alpha[:k+1] = alpha_k.reshape(-1,1)\n",
    "\n",
    "            # update Gk\n",
    "            self.Gk = (self.Alpha.T @ self.act(self.WB @ self.X.T)).reshape(self.nPts, self.nPts)\n",
    "\n",
    "            if k in [2, 4, 8, 16, 32, 64, 128, 256]:\n",
    "                l2 = ((self.Gk - self.Gref)**2).sum()**0.5 / ((self.Gref)**2).sum()**0.5\n",
    "                print('{:}th - {:.4e}'.format(k, l2))"
   ]
  },
  {
   "cell_type": "code",
   "execution_count": 21,
   "metadata": {},
   "outputs": [],
   "source": [
    "model = KernelOGA1d(257, 10, 513)"
   ]
  },
  {
   "cell_type": "code",
   "execution_count": 22,
   "metadata": {},
   "outputs": [
    {
     "name": "stdout",
     "output_type": "stream",
     "text": [
      "2th - 4.8032e-01\n",
      "4th - 1.6791e-01\n",
      "8th - 7.9671e-02\n",
      "16th - 3.0391e-02\n",
      "32th - 9.8226e-03\n",
      "64th - 1.2672e-03\n"
     ]
    },
    {
     "ename": "KeyboardInterrupt",
     "evalue": "",
     "output_type": "error",
     "traceback": [
      "\u001b[0;31m---------------------------------------------------------------------------\u001b[0m",
      "\u001b[0;31mKeyboardInterrupt\u001b[0m                         Traceback (most recent call last)",
      "Cell \u001b[0;32mIn[22], line 1\u001b[0m\n\u001b[0;32m----> 1\u001b[0m \u001b[43mmodel\u001b[49m\u001b[38;5;241;43m.\u001b[39;49m\u001b[43moptimize\u001b[49m\u001b[43m(\u001b[49m\u001b[43m)\u001b[49m\n",
      "Cell \u001b[0;32mIn[20], line 99\u001b[0m, in \u001b[0;36mKernelOGA1d.optimize\u001b[0;34m(self)\u001b[0m\n\u001b[1;32m     96\u001b[0m \u001b[38;5;28mself\u001b[39m\u001b[38;5;241m.\u001b[39mAlpha[:k\u001b[38;5;241m+\u001b[39m\u001b[38;5;241m1\u001b[39m] \u001b[38;5;241m=\u001b[39m alpha_k\u001b[38;5;241m.\u001b[39mreshape(\u001b[38;5;241m-\u001b[39m\u001b[38;5;241m1\u001b[39m,\u001b[38;5;241m1\u001b[39m)\n\u001b[1;32m     98\u001b[0m \u001b[38;5;66;03m# update Gk\u001b[39;00m\n\u001b[0;32m---> 99\u001b[0m \u001b[38;5;28mself\u001b[39m\u001b[38;5;241m.\u001b[39mGk \u001b[38;5;241m=\u001b[39m (\u001b[38;5;28mself\u001b[39m\u001b[38;5;241m.\u001b[39mAlpha\u001b[38;5;241m.\u001b[39mT \u001b[38;5;241m@\u001b[39m \u001b[38;5;28;43mself\u001b[39;49m\u001b[38;5;241;43m.\u001b[39;49m\u001b[43mact\u001b[49m\u001b[43m(\u001b[49m\u001b[38;5;28;43mself\u001b[39;49m\u001b[38;5;241;43m.\u001b[39;49m\u001b[43mWB\u001b[49m\u001b[43m \u001b[49m\u001b[38;5;241;43m@\u001b[39;49m\u001b[43m \u001b[49m\u001b[38;5;28;43mself\u001b[39;49m\u001b[38;5;241;43m.\u001b[39;49m\u001b[43mX\u001b[49m\u001b[38;5;241;43m.\u001b[39;49m\u001b[43mT\u001b[49m\u001b[43m)\u001b[49m)\u001b[38;5;241m.\u001b[39mreshape(\u001b[38;5;28mself\u001b[39m\u001b[38;5;241m.\u001b[39mnPts, \u001b[38;5;28mself\u001b[39m\u001b[38;5;241m.\u001b[39mnPts)\n\u001b[1;32m    101\u001b[0m \u001b[38;5;28;01mif\u001b[39;00m k \u001b[38;5;129;01min\u001b[39;00m [\u001b[38;5;241m2\u001b[39m, \u001b[38;5;241m4\u001b[39m, \u001b[38;5;241m8\u001b[39m, \u001b[38;5;241m16\u001b[39m, \u001b[38;5;241m32\u001b[39m, \u001b[38;5;241m64\u001b[39m, \u001b[38;5;241m128\u001b[39m, \u001b[38;5;241m256\u001b[39m]:\n\u001b[1;32m    102\u001b[0m     l2 \u001b[38;5;241m=\u001b[39m ((\u001b[38;5;28mself\u001b[39m\u001b[38;5;241m.\u001b[39mGk \u001b[38;5;241m-\u001b[39m \u001b[38;5;28mself\u001b[39m\u001b[38;5;241m.\u001b[39mGref)\u001b[38;5;241m*\u001b[39m\u001b[38;5;241m*\u001b[39m\u001b[38;5;241m2\u001b[39m)\u001b[38;5;241m.\u001b[39msum()\u001b[38;5;241m*\u001b[39m\u001b[38;5;241m*\u001b[39m\u001b[38;5;241m0.5\u001b[39m \u001b[38;5;241m/\u001b[39m ((\u001b[38;5;28mself\u001b[39m\u001b[38;5;241m.\u001b[39mGref)\u001b[38;5;241m*\u001b[39m\u001b[38;5;241m*\u001b[39m\u001b[38;5;241m2\u001b[39m)\u001b[38;5;241m.\u001b[39msum()\u001b[38;5;241m*\u001b[39m\u001b[38;5;241m*\u001b[39m\u001b[38;5;241m0.5\u001b[39m\n",
      "\u001b[0;31mKeyboardInterrupt\u001b[0m: "
     ]
    }
   ],
   "source": [
    "model.optimize()"
   ]
  },
  {
   "cell_type": "code",
   "execution_count": 17,
   "metadata": {},
   "outputs": [
    {
     "data": {
      "text/plain": [
       "[<matplotlib.lines.Line2D at 0x7b409012cf70>]"
      ]
     },
     "execution_count": 17,
     "metadata": {},
     "output_type": "execute_result"
    },
    {
     "data": {
      "image/png": "[encoded data removed]",
      "text/plain": [
       "<Figure size 640x480 with 1 Axes>"
      ]
     },
     "metadata": {},
     "output_type": "display_data"
    }
   ],
   "source": [
    "plt.plot(model.Gref[255], '-r', label='Exact')\n",
    "plt.plot(model.Gk[255], '-b', label='OGA')"
   ]
  },
  {
   "cell_type": "code",
   "execution_count": 18,
   "metadata": {},
   "outputs": [
    {
     "data": {
      "image/png": "[encoded data removed]",
      "text/plain": [
       "<Figure size 640x480 with 4 Axes>"
      ]
     },
     "metadata": {},
     "output_type": "display_data"
    }
   ],
   "source": [
    "plt.subplot(121)\n",
    "plt.imshow(model.Gk, vmin=0, vmax=0.25, cmap='jet')\n",
    "plt.title('OGA')\n",
    "plt.colorbar()\n",
    "plt.subplot(122)\n",
    "plt.imshow(model.Gref, vmin=0, vmax=0.25, cmap='jet')\n",
    "plt.title('Exact')\n",
    "plt.colorbar()\n",
    "plt.tight_layout()"
   ]
  },
  {
   "cell_type": "code",
   "execution_count": null,
   "metadata": {},
   "outputs": [],
   "source": []
  }
 ],
 "metadata": {
  "kernelspec": {
   "display_name": "base",
   "language": "python",
   "name": "python3"
  },
  "language_info": {
   "codemirror_mode": {
    "name": "ipython",
    "version": 3
   },
   "file_extension": ".py",
   "mimetype": "text/x-python",
   "name": "python",
   "nbconvert_exporter": "python",
   "pygments_lexer": "ipython3",
   "version": "3.10.11"
  }
 },
 "nbformat": 4,
 "nbformat_minor": 2
}
