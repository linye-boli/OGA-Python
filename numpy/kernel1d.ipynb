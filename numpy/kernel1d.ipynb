{
 "cells": [
  {
   "cell_type": "code",
   "execution_count": 1,
   "metadata": {},
   "outputs": [],
   "source": [
    "import matplotlib.pyplot as plt\n",
    "\n",
    "import numpy as np \n",
    "import scipy\n",
    "from scipy.special import roots_legendre, factorial\n",
    "from functools import partial\n",
    "\n",
    "from einops import repeat"
   ]
  },
  {
   "cell_type": "code",
   "execution_count": 2,
   "metadata": {},
   "outputs": [],
   "source": [
    "def ReLU(x, n):\n",
    "    # ReLU activation function\n",
    "    # n : degree \n",
    "    return np.maximum(0,x) ** n "
   ]
  },
  {
   "cell_type": "code",
   "execution_count": 19,
   "metadata": {},
   "outputs": [],
   "source": [
    "def GP1D(l,n):\n",
    "    x = np.linspace(0,1,n)\n",
    "    y = np.linspace(0,1,n)\n",
    "    mean = np.zeros_like(x)\n",
    "    gram = np.exp(-np.abs(x.reshape(-1,1) - y.reshape(1,-1))**2/(2*l**2))\n",
    "    f = np.random.multivariate_normal(mean, gram)\n",
    "    return f"
   ]
  },
  {
   "cell_type": "code",
   "execution_count": 54,
   "metadata": {},
   "outputs": [],
   "source": [
    "def Kernel(x, y):\n",
    "    return 0.5*(x+y-np.abs(x-y)) - x*y"
   ]
  },
  {
   "cell_type": "code",
   "execution_count": 86,
   "metadata": {},
   "outputs": [],
   "source": [
    "N = 5\n",
    "npts = 1001\n",
    "x = np.linspace(0,1,npts)\n",
    "h = x[1]\n",
    "\n",
    "# eval kernel function\n",
    "xx, yy = np.meshgrid(x,x)\n",
    "xx, yy = xx.reshape(-1), yy.reshape(-1)\n",
    "K = Kernel(xx,yy).reshape(npts, npts)\n",
    "\n",
    "# eval force functions\n",
    "fs = []\n",
    "for i in range(N):\n",
    "    fs.append(GP1D(0.02,npts))\n",
    "fs = np.array(fs)\n",
    "\n",
    "# calc solution functions\n",
    "us = h* (K @ fs.T).T"
   ]
  },
  {
   "cell_type": "code",
   "execution_count": 99,
   "metadata": {},
   "outputs": [],
   "source": [
    "class KernelOGA1d:\n",
    "    def __init__(self, nNeuron, npts, fs, us):\n",
    "        self.npts = npts\n",
    "        self.nNeuron = nNeuron \n",
    "        \n",
    "        # coords\n",
    "        x = np.linspace(0,1,npts)\n",
    "        h = x[1]\n",
    "        xx, yy = np.meshgrid(x,x)\n",
    "        xs, ys = xx.reshape(-1), yy.reshape(-1)\n",
    "        self.xs = xs\n",
    "        self.ys = ys\n",
    "        self.h = h\n",
    "\n",
    "        # data\n",
    "        self.fs = fs \n",
    "        self.us = us\n",
    "\n",
    "        # ref kernel\n",
    "        self.Gref = self.refkernel(xs, ys).reshape(npts, npts)\n",
    "\n",
    "        # learned kernel\n",
    "        self.Gk = np.zeros((npts, npts))\n",
    "\n",
    "        # neural network\n",
    "        self.act = partial(ReLU, n=2)\n",
    "        self.W = np.zeros((nNeuron, 2))\n",
    "        self.Bias = np.zeros((nNeuron, 1))\n",
    "\n",
    "        # wb search \n",
    "        self.nw = 2 \n",
    "        self.nb = 1001\n",
    "\n",
    "        # current neuron\n",
    "        self.k = 0\n",
    "    \n",
    "    def refkernel(self,x,y):\n",
    "        return 0.5*(x+y-np.abs(x-y)) - x*y\n",
    "\n",
    "    def optimize(self):\n",
    "        wxk, wyk, bk = self.optimize_wb()\n",
    "        return wxk, wyk, bk\n",
    "\n",
    "    def optimize_wb(self):\n",
    "        wxk, wyk, bk = self.initialguess_wb()\n",
    "        return wxk, wyk, bk\n",
    "    \n",
    "    def initialguess_wb(self):\n",
    "        Wx = np.linspace(-1,1,self.nw)\n",
    "        Wy = np.linspace(-1,1,self.nw)\n",
    "        B = np.linspace(-2,2,self.nb)\n",
    "        wwx, wwy, bb = np.meshgrid(Wx, Wy, B)\n",
    "        wwx = wwx.reshape(-1)\n",
    "        wwy = wwy.reshape(-1)\n",
    "        bb = bb.reshape(-1)\n",
    "\n",
    "        npts = self.npts\n",
    "        h = self.h\n",
    "        fs = self.fs \n",
    "        us = self.us\n",
    "\n",
    "        loss = []\n",
    "        for wx, wy, b in zip(wwx, wwy, bb):\n",
    "            c = wx*self.xs + wy*self.ys + b\n",
    "            G = self.act(c).reshape(npts, npts) # neural kernel \n",
    "\n",
    "            uGs = h * (G @ fs.T).T\n",
    "            uGks = h * (self.Gk @ fs.T).T \n",
    "            rG = h * ((us - uGks) * uGs).sum()\n",
    "            E = -0.5 * rG **2\n",
    "            loss.append(E)\n",
    "\n",
    "        idx = np.argmin(loss)\n",
    "        wxi, wyi, bi = wwx[idx], wwy[idx], bb[idx]\n",
    "        return wxi, wyi, bi\n",
    "    \n",
    "    "
   ]
  },
  {
   "cell_type": "code",
   "execution_count": 100,
   "metadata": {},
   "outputs": [],
   "source": [
    "model = KernelOGA1d(65, 1001, fs, us)"
   ]
  },
  {
   "cell_type": "code",
   "execution_count": 101,
   "metadata": {},
   "outputs": [
    {
     "data": {
      "text/plain": [
       "(1.0, 1.0, 2.0)"
      ]
     },
     "execution_count": 101,
     "metadata": {},
     "output_type": "execute_result"
    }
   ],
   "source": [
    "model.optimize()"
   ]
  },
  {
   "cell_type": "code",
   "execution_count": null,
   "metadata": {},
   "outputs": [],
   "source": []
  }
 ],
 "metadata": {
  "kernelspec": {
   "display_name": "base",
   "language": "python",
   "name": "python3"
  },
  "language_info": {
   "codemirror_mode": {
    "name": "ipython",
    "version": 3
   },
   "file_extension": ".py",
   "mimetype": "text/x-python",
   "name": "python",
   "nbconvert_exporter": "python",
   "pygments_lexer": "ipython3",
   "version": "3.10.11"
  }
 },
 "nbformat": 4,
 "nbformat_minor": 2
}
